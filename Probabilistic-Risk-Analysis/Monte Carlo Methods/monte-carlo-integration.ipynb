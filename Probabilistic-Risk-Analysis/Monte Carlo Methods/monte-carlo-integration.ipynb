{
 "cells": [
  {
   "cell_type": "markdown",
   "metadata": {},
   "source": [
    "<img src=\"https://risk-engineering.org/static/img/logo-RE.png\" width=\"100\" alt=\"\" style=\"float:right;margin:15px;\">\n",
    "This notebook is an element of the [risk-engineering.org courseware](https://risk-engineering.org/). It can be distributed under the terms of the [Creative Commons Attribution-ShareAlike licence](https://creativecommons.org/licenses/by-sa/4.0/).\n",
    "\n",
    "---\n",
    "\n",
    "This notebook contains an introduction to the use of [NumPy](http://www.numpy.org/) for numerical integration using the Monte Carlo method."
   ]
  },
  {
   "cell_type": "markdown",
   "metadata": {},
   "source": [
    "# Monte Carlo methods for numerical integration"
   ]
  },
  {
   "cell_type": "markdown",
   "metadata": {},
   "source": [
    "This notebook contains an illustration of the use of Monte Carlo methods for numerical integration. The associated lecture slides on [risk-engineering.org](https://risk-engineering.org/monte-carlo-methods/) provide an introduction to the use of stochastic simulation methods. Numerical integration is often used to evaluate risk measures in the finance industry. \n",
    "\n",
    "## First integral \n",
    "\n",
    "**Task**: resolve the integral \n",
    "\n",
    "$\\int_1^5 x^2 dx$"
   ]
  },
  {
   "cell_type": "markdown",
   "metadata": {},
   "source": [
    "### Analytical method"
   ]
  },
  {
   "cell_type": "markdown",
   "metadata": {},
   "source": [
    "We start by resolving this integral using the standard analytical method, assisted by the [SymPy symbolic mathematics library](http://sympy.org/). "
   ]
  },
  {
   "cell_type": "code",
   "execution_count": 1,
   "metadata": {},
   "outputs": [
    {
     "data": {
      "text/latex": [
       "$$\\frac{124}{3}$$"
      ],
      "text/plain": [
       "124/3"
      ]
     },
     "execution_count": 1,
     "metadata": {},
     "output_type": "execute_result"
    }
   ],
   "source": [
    "import sympy\n",
    "from sympy.interactive import printing\n",
    "printing.init_printing(use_latex='mathjax')\n",
    "\n",
    "x = sympy.Symbol('x')\n",
    "integral = sympy.integrate(x**2)\n",
    "integral.subs(x, 5) - integral.subs(x, 1)"
   ]
  },
  {
   "cell_type": "code",
   "execution_count": 2,
   "metadata": {},
   "outputs": [
    {
     "data": {
      "text/latex": [
       "$$41.333333333333336$$"
      ],
      "text/plain": [
       "41.333333333333336"
      ]
     },
     "execution_count": 2,
     "metadata": {},
     "output_type": "execute_result"
    }
   ],
   "source": [
    "float(integral.subs(x, 5) - integral.subs(x, 1))"
   ]
  },
  {
   "cell_type": "markdown",
   "metadata": {},
   "source": [
    "### Numerical method"
   ]
  },
  {
   "cell_type": "markdown",
   "metadata": {},
   "source": [
    "The expression we wish to integrate is very simple here, so calculating its integral analytically is easy (even without resorting to Python’s symbolic mathematics package!). In many cases, however, analytical approaches to integration are not feasible:\n",
    "\n",
    "- the expression we wish to integrate is very complicated, possibly without a closed analytical integral\n",
    "- it is only known in “black box” form (for instance a software module): we can evaluate it at various points but don’t know the corresponding equation\n",
    "\n",
    "In such situations, stochastic simulation (“Monte Carlo”) methods allow us to generate an approximation of the integral, simply by evaluating the expression a large number of times at randomly selected points in the input space and counting the proportion that are less than the integrand at that point. The larger the number of simulations we run, the better the approximation (and note that computers are very very fast today, so on simple problems the simulation will run in a blink of an eye!). "
   ]
  },
  {
   "cell_type": "code",
   "execution_count": 3,
   "metadata": {},
   "outputs": [],
   "source": [
    "import numpy"
   ]
  },
  {
   "cell_type": "code",
   "execution_count": 4,
   "metadata": {},
   "outputs": [
    {
     "data": {
      "text/latex": [
       "$$41.424304274414624$$"
      ],
      "text/plain": [
       "41.424304274414624"
      ]
     },
     "execution_count": 4,
     "metadata": {},
     "output_type": "execute_result"
    }
   ],
   "source": [
    "N = 100000\n",
    "accum = 0\n",
    "for i in range(N):\n",
    "    x = numpy.random.uniform(1, 5)\n",
    "    accum += x**2\n",
    "measure = 5 - 1\n",
    "measure * accum/float(N)"
   ]
  },
  {
   "cell_type": "markdown",
   "metadata": {},
   "source": [
    "## Second integral\n",
    "\n",
    "**Task**: resolve the integral $\\int_3^2 x^2 + 4 x sin(x)$. "
   ]
  },
  {
   "cell_type": "markdown",
   "metadata": {},
   "source": [
    "### Analytical solution"
   ]
  },
  {
   "cell_type": "code",
   "execution_count": 5,
   "metadata": {},
   "outputs": [
    {
     "data": {
      "text/latex": [
       "$$11.811358925098283$$"
      ],
      "text/plain": [
       "11.811358925098283"
      ]
     },
     "execution_count": 5,
     "metadata": {},
     "output_type": "execute_result"
    }
   ],
   "source": [
    "x = sympy.Symbol('x')\n",
    "d1 = sympy.integrate(x**2 + 4 * x * sympy.sin(x))\n",
    "sol = d1.subs(x, 3) - d1.subs(x, 2)\n",
    "float(sol)"
   ]
  },
  {
   "cell_type": "markdown",
   "metadata": {},
   "source": [
    "### Stochastic solution"
   ]
  },
  {
   "cell_type": "code",
   "execution_count": 6,
   "metadata": {},
   "outputs": [
    {
     "data": {
      "text/latex": [
       "$$11.812701975222044$$"
      ],
      "text/plain": [
       "11.812701975222044"
      ]
     },
     "execution_count": 6,
     "metadata": {},
     "output_type": "execute_result"
    }
   ],
   "source": [
    "N = 100000\n",
    "accum = 0 \n",
    "for i in range(N):\n",
    "    x = numpy.random.uniform(2, 3)\n",
    "    accum += x**2 + 4*x*numpy.sin(x)\n",
    "measure = 3 - 2\n",
    "measure * accum/float(N)"
   ]
  },
  {
   "cell_type": "markdown",
   "metadata": {},
   "source": [
    "**Exercise**: now undertake the same comparison of analytical and stochastic simulation methods to evaluate the integral\n",
    "\n",
    "$$\\int_1^3 e^{x^2}$$"
   ]
  },
  {
   "cell_type": "markdown",
   "metadata": {},
   "source": [
    "(Hint: the result should be approximately 1464.2)"
   ]
  },
  {
   "cell_type": "markdown",
   "metadata": {},
   "source": [
    "## A 2D integral"
   ]
  },
  {
   "cell_type": "markdown",
   "metadata": {},
   "source": [
    "Now we move to a 2D integral, $\\int\\int cos(x^4) + 3y^2 dx dy$ over $x ∈ [4,6]$ and $y ∈ [0, 1]$. \n",
    "\n",
    "Monte Carlo integration methods become increasingly attractive when compared to other numerical integration methods (such as quadrature) as the number of dimensions increases. "
   ]
  },
  {
   "cell_type": "markdown",
   "metadata": {},
   "source": [
    "### Analytical solution"
   ]
  },
  {
   "cell_type": "code",
   "execution_count": 7,
   "metadata": {},
   "outputs": [
    {
     "data": {
      "text/latex": [
       "$$2.005055086749674$$"
      ],
      "text/plain": [
       "2.005055086749674"
      ]
     },
     "execution_count": 7,
     "metadata": {},
     "output_type": "execute_result"
    }
   ],
   "source": [
    "x = sympy.Symbol('x')\n",
    "y = sympy.Symbol('y')\n",
    "d1 = sympy.integrate(sympy.cos(x**4) + 3 * y**2, x)\n",
    "d2 = sympy.integrate(d1.subs(x, 6) - d1.subs(x, 4), y)\n",
    "sol = d2.subs(y, 1) - d2.subs(y, 0)\n",
    "float(sol)"
   ]
  },
  {
   "cell_type": "code",
   "execution_count": 8,
   "metadata": {},
   "outputs": [
    {
     "data": {
      "text/latex": [
       "$$2.008697217290843$$"
      ],
      "text/plain": [
       "2.008697217290843"
      ]
     },
     "execution_count": 8,
     "metadata": {},
     "output_type": "execute_result"
    }
   ],
   "source": [
    "N = 100000\n",
    "accum = 0\n",
    "for i in range(N):\n",
    "    x = numpy.random.uniform(4, 6)\n",
    "    y = numpy.random.uniform(0, 1)\n",
    "    accum += numpy.cos(x**4) + 3 * y * y \n",
    "measure = 2 * 1\n",
    "measure * accum/float(N)"
   ]
  },
  {
   "cell_type": "code",
   "execution_count": null,
   "metadata": {},
   "outputs": [],
   "source": []
  }
 ],
 "metadata": {
  "anaconda-cloud": {},
  "kernelspec": {
   "display_name": "Python 3",
   "language": "python",
   "name": "python3"
  },
  "language_info": {
   "codemirror_mode": {
    "name": "ipython",
    "version": 3
   },
   "file_extension": ".py",
   "mimetype": "text/x-python",
   "name": "python",
   "nbconvert_exporter": "python",
   "pygments_lexer": "ipython3",
   "version": "3.6.7"
  }
 },
 "nbformat": 4,
 "nbformat_minor": 1
}
