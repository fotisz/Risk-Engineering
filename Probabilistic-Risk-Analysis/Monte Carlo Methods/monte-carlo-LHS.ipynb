{
 "cells": [
  {
   "cell_type": "markdown",
   "metadata": {
    "ein.tags": "worksheet-0",
    "slideshow": {
     "slide_type": "-"
    }
   },
   "source": [
    "# Monte Carlo sampling methods"
   ]
  },
  {
   "cell_type": "markdown",
   "metadata": {
    "ein.tags": "worksheet-0",
    "slideshow": {
     "slide_type": "-"
    }
   },
   "source": [
    "<img src=\"https://risk-engineering.org/static/img/logo-RE.png\" width=\"100\" alt=\"\" style=\"float:right;margin:15px;\">\n",
    "This notebook is an element of the [risk-engineering.org courseware](https://risk-engineering.org/). It can be distributed under the terms of the [Creative Commons Attribution-ShareAlike licence](https://creativecommons.org/licenses/by-sa/4.0/).\n",
    "\n",
    "Author: Eric Marsden <eric.marsden@risk-engineering.org>\n",
    "\n",
    "---\n",
    "\n",
    "This notebook contains an introduction to different sampling methods in Monte Carlo analysis (standard random sampling, latin hypercube sampling, and low discrepency sequences such as that of Sobol’ and that of Halton). The notebook shows how to use Python, with the [SciPy](https://scipy.org/) and [SymPy](https://sympy.org/) libraries. It uses some Python 3 features. See the [lecture slides at risk-engineering.org](https://risk-engineering.org/monte-carlo-methods/) for more background information on stochastic simulation. "
   ]
  },
  {
   "cell_type": "code",
   "execution_count": 1,
   "metadata": {
    "autoscroll": false,
    "ein.hycell": false,
    "ein.tags": "worksheet-0",
    "slideshow": {
     "slide_type": "-"
    }
   },
   "outputs": [],
   "source": [
    "import math\n",
    "import numpy\n",
    "import scipy.stats\n",
    "import matplotlib.pyplot as plt"
   ]
  },
  {
   "cell_type": "markdown",
   "metadata": {
    "ein.tags": "worksheet-0",
    "slideshow": {
     "slide_type": "-"
    }
   },
   "source": [
    "Let’s start with a simple integration problem in 1D, \n",
    "\n",
    "$\\int_1^5 x^2$\n",
    "\n",
    "This is easy to solve analytically, and we can use the SymPy library in case you’ve forgotten how to resolve simple integrals."
   ]
  },
  {
   "cell_type": "code",
   "execution_count": 2,
   "metadata": {
    "autoscroll": false,
    "ein.hycell": false,
    "ein.tags": "worksheet-0",
    "slideshow": {
     "slide_type": "-"
    }
   },
   "outputs": [
    {
     "name": "stdout",
     "output_type": "stream",
     "text": [
      "Analytical result: 41.333333333333336\n"
     ]
    }
   ],
   "source": [
    "import sympy\n",
    "result = {}  # we'll save results using different methods here\n",
    "x = sympy.Symbol('x')\n",
    "i = sympy.integrate(x**2)\n",
    "result['analytical'] = float(i.subs(x, 5) - i.subs(x, 1))\n",
    "print(\"Analytical result: {}\".format(result['analytical']))"
   ]
  },
  {
   "cell_type": "markdown",
   "metadata": {
    "ein.tags": "worksheet-0",
    "slideshow": {
     "slide_type": "-"
    }
   },
   "source": [
    "We can estimate this integral using a standard Monte Carlo method, where we use the fact that the expectation of a random variable is related to its integral\n",
    "\n",
    "$\\mathbb{E}(f(x)) = \\int_I f(x) dx$\n",
    "\n",
    "We will sample a large number $N$ of points in $I$ and calculate their average, and multiply by the range over which we are integrating."
   ]
  },
  {
   "cell_type": "code",
   "execution_count": 3,
   "metadata": {
    "autoscroll": false,
    "ein.hycell": false,
    "ein.tags": "worksheet-0",
    "slideshow": {
     "slide_type": "-"
    }
   },
   "outputs": [
    {
     "name": "stdout",
     "output_type": "stream",
     "text": [
      "Standard Monte Carlo result: 40.9634538942694\n"
     ]
    }
   ],
   "source": [
    "N = 10000\n",
    "accum = 0\n",
    "for i in range(N):\n",
    "    x = numpy.random.uniform(1, 5)\n",
    "    accum += x**2\n",
    "volume = 5 - 1\n",
    "result['MC'] = volume * accum / float(N)\n",
    "print(\"Standard Monte Carlo result: {}\".format(result['MC']))"
   ]
  },
  {
   "cell_type": "markdown",
   "metadata": {
    "ein.tags": "worksheet-0",
    "slideshow": {
     "slide_type": "-"
    }
   },
   "source": [
    "If we increase $N$, the estimation will converge to the analytical value. (It will converge relatively slowly, following $1/\\sqrt(N)$). "
   ]
  },
  {
   "cell_type": "markdown",
   "metadata": {
    "ein.tags": "worksheet-0",
    "slideshow": {
     "slide_type": "-"
    }
   },
   "source": [
    "## Latin hypercube sampling"
   ]
  },
  {
   "cell_type": "markdown",
   "metadata": {
    "ein.tags": "worksheet-0",
    "slideshow": {
     "slide_type": "-"
    }
   },
   "source": [
    "The LHS method consists of dividing the input space into a number of equiprobable regions, then taking random samples from each region. We can use it conveniently in Python thanks to the [pyDOE library](https://pythonhosted.org/pyDOE/), which you will probably need to install on your computer, using a command such as \n",
    "\n",
    "> pip install pyDOE\n",
    "\n",
    "or if you’re using a Google CoLaboratory notebook, execute a code cell containing\n",
    "\n",
    "> !pip install pyDOE\n",
    "\n",
    "The `lhs` function in this library returns an “experimental design” consisting of points in the $[0, 1]^d$ hypercube, where $d$ is the dimension of your problem (it’s 2 in this simple example). You need to scale these points to your input domain. "
   ]
  },
  {
   "cell_type": "code",
   "execution_count": 4,
   "metadata": {
    "autoscroll": false,
    "ein.hycell": false,
    "ein.tags": "worksheet-0",
    "slideshow": {
     "slide_type": "-"
    }
   },
   "outputs": [
    {
     "name": "stdout",
     "output_type": "stream",
     "text": [
      "Latin hypercube result: 41.333301290132134\n"
     ]
    }
   ],
   "source": [
    "# obtain the pyDOE library from https://pythonhosted.org/pyDOE/\n",
    "from pyDOE import lhs\n",
    "\n",
    "seq = lhs(2, N)\n",
    "accum = 0\n",
    "for i in range(N):\n",
    "    x = 1 + seq[i][0]*(5 - 1)\n",
    "    y = 1 + seq[i][1]*(5**2 - 1**2)\n",
    "    accum += x**2\n",
    "volume = 5 - 1\n",
    "result['LHS'] = volume * accum / float(N)\n",
    "print(\"Latin hypercube result: {}\".format(result['LHS']))"
   ]
  },
  {
   "cell_type": "markdown",
   "metadata": {
    "ein.tags": "worksheet-0",
    "slideshow": {
     "slide_type": "-"
    }
   },
   "source": [
    "Note that the error in this estimation is significantly lower than that obtained using standard Monte Carlo sampling (and if you repeat this experiment many times, you should find this is true in most cases)."
   ]
  },
  {
   "cell_type": "markdown",
   "metadata": {
    "ein.tags": "worksheet-0",
    "slideshow": {
     "slide_type": "-"
    }
   },
   "source": [
    "## Halton’s low discrepency sequences"
   ]
  },
  {
   "cell_type": "markdown",
   "metadata": {
    "ein.tags": "worksheet-0",
    "slideshow": {
     "slide_type": "-"
    }
   },
   "source": [
    "A [low discrepency (or quasi-random) sequence](https://en.wikipedia.org/wiki/Low-discrepancy_sequence) is a deterministic mathematical sequence of numbers that has the property of low discrepency. This means that there are no clusters of points and that the sequence fills space roughly uniformly. The [Halton sequence](https://en.wikipedia.org/wiki/Halton_sequence) is a low discrepency sequence that has useful properties for pseudo-stochastic sampling methods (also called “quasi-Monte Carlo” methods). "
   ]
  },
  {
   "cell_type": "code",
   "execution_count": 5,
   "metadata": {
    "autoscroll": false,
    "ein.hycell": false,
    "ein.tags": "worksheet-0",
    "slideshow": {
     "slide_type": "-"
    }
   },
   "outputs": [],
   "source": [
    "# from https://mail.scipy.org/pipermail/scipy-user/2013-June/034744.html\n",
    "def halton(dim: int, nbpts: int):\n",
    "    h = numpy.empty(nbpts * dim)\n",
    "    h.fill(numpy.nan)\n",
    "    p = numpy.empty(nbpts)\n",
    "    p.fill(numpy.nan)\n",
    "    P = [2, 3, 5, 7, 11, 13, 17, 19, 23, 29, 31]\n",
    "    lognbpts = math.log(nbpts + 1)\n",
    "    for i in range(dim):\n",
    "        b = P[i]\n",
    "        n = int(math.ceil(lognbpts / math.log(b)))\n",
    "        for t in range(n):\n",
    "            p[t] = pow(b, -(t + 1))\n",
    "\n",
    "        for j in range(nbpts):\n",
    "            d = j + 1\n",
    "            sum_ = math.fmod(d, b) * p[0]\n",
    "            for t in range(1, n):\n",
    "                d = math.floor(d / b)\n",
    "                sum_ += math.fmod(d, b) * p[t]\n",
    "\n",
    "            h[j*dim + i] = sum_\n",
    "    return h.reshape(nbpts, dim)"
   ]
  },
  {
   "cell_type": "code",
   "execution_count": 6,
   "metadata": {
    "autoscroll": false,
    "ein.hycell": false,
    "ein.tags": "worksheet-0",
    "slideshow": {
     "slide_type": "-"
    }
   },
   "outputs": [
    {
     "data": {
      "image/png": "[encoded data removed]",
      "text/plain": [
       "<Figure size 432x288 with 1 Axes>"
      ]
     },
     "metadata": {
      "needs_background": "light"
     },
     "output_type": "display_data"
    }
   ],
   "source": [
    "N = 1000\n",
    "seq = halton(2, N)\n",
    "plt.title(\"2D Halton sequence\")\n",
    "plt.scatter(seq[:,0], seq[:,1], marker=\".\");"
   ]
  },
  {
   "cell_type": "code",
   "execution_count": 7,
   "metadata": {
    "autoscroll": false,
    "ein.hycell": false,
    "ein.tags": "worksheet-0",
    "slideshow": {
     "slide_type": "-"
    }
   },
   "outputs": [
    {
     "data": {
      "image/png": "[encoded data removed]",
      "text/plain": [
       "<Figure size 432x288 with 1 Axes>"
      ]
     },
     "metadata": {
      "needs_background": "light"
     },
     "output_type": "display_data"
    }
   ],
   "source": [
    "N = 1000\n",
    "plt.title(\"Pseudo-random sequence\")\n",
    "plt.scatter(numpy.random.uniform(size=N), numpy.random.uniform(size=N), marker=\".\");"
   ]
  },
  {
   "cell_type": "markdown",
   "metadata": {
    "ein.tags": "worksheet-0",
    "slideshow": {
     "slide_type": "-"
    }
   },
   "source": [
    "Comparing the scatterplot of the 2D Halton sequence with that of a pseudo-random sequence (pseudo-random meaning “as close to randomness as we can get with a computer”), note that the Halton sequence looks less “random” and covers the space in a more regular manner. For this reason, a low discrepency sequence gives, on average, better results for stochastic sampling problems than does a truly stochastic (really pseudo-random) sampling approach. Let’s test that on our integration problem:"
   ]
  },
  {
   "cell_type": "code",
   "execution_count": 8,
   "metadata": {
    "autoscroll": false,
    "ein.hycell": false,
    "ein.tags": "worksheet-0",
    "slideshow": {
     "slide_type": "-"
    }
   },
   "outputs": [
    {
     "name": "stdout",
     "output_type": "stream",
     "text": [
      "Quasi-Monte Carlo result: 41.21870562744141\n"
     ]
    }
   ],
   "source": [
    "seq = halton(2, N)\n",
    "accum = 0\n",
    "for i in range(N):\n",
    "    x = 1 + seq[i][0]*(5 - 1)\n",
    "    y = 1 + seq[i][1]*(5**2 - 1**2)\n",
    "    accum += x**2\n",
    "volume = 5 - 1\n",
    "result['QMC'] = volume * accum / float(N)\n",
    "print(\"Quasi-Monte Carlo result: {}\".format(result['QMC']))"
   ]
  },
  {
   "cell_type": "markdown",
   "metadata": {
    "ein.tags": "worksheet-0",
    "slideshow": {
     "slide_type": "-"
    }
   },
   "source": [
    "Another quasi-random sequence commonly used for this purpose is the Sobol’ sequence. "
   ]
  },
  {
   "cell_type": "markdown",
   "metadata": {
    "ein.tags": "worksheet-0",
    "slideshow": {
     "slide_type": "-"
    }
   },
   "source": [
    "We can compare the error of our different estimates (each used the same number of runs):"
   ]
  },
  {
   "cell_type": "code",
   "execution_count": 9,
   "metadata": {
    "autoscroll": false,
    "ein.hycell": false,
    "ein.tags": "worksheet-0",
    "slideshow": {
     "slide_type": "-"
    }
   },
   "outputs": [
    {
     "name": "stdout",
     "output_type": "stream",
     "text": [
      "MC  result: 40.963454  Error: 3.698794E-01\n",
      "LHS result: 41.333301  Error: 3.204320E-05\n",
      "QMC result: 41.218706  Error: 1.146277E-01\n"
     ]
    }
   ],
   "source": [
    "for m in ['MC', 'LHS', 'QMC']:\n",
    "    print(\"{:3} result: {:.8}  Error: {:E}\".format(m, result[m], abs(result[m]-result['analytical'])))"
   ]
  },
  {
   "cell_type": "markdown",
   "metadata": {
    "ein.tags": "worksheet-0",
    "slideshow": {
     "slide_type": "-"
    }
   },
   "source": [
    "Note that in practice, it’s possible to combine Latin Hypercube sampling with low discrepency sequences."
   ]
  },
  {
   "cell_type": "markdown",
   "metadata": {
    "ein.tags": "worksheet-0",
    "slideshow": {
     "slide_type": "-"
    }
   },
   "source": [
    "## A higher dimensional integral"
   ]
  },
  {
   "cell_type": "markdown",
   "metadata": {
    "ein.tags": "worksheet-0",
    "slideshow": {
     "slide_type": "-"
    }
   },
   "source": [
    "Let us now analyze an integration problem in dimension 4, the Ishigami function. This is a well-known function in numerical optimization and stochastic analysis, because it is very highly non-linear. "
   ]
  },
  {
   "cell_type": "code",
   "execution_count": 10,
   "metadata": {
    "autoscroll": false,
    "ein.hycell": false,
    "ein.tags": "worksheet-0",
    "slideshow": {
     "slide_type": "-"
    }
   },
   "outputs": [],
   "source": [
    "def ishigami(x1, x2, x3) -> float:\n",
    "    return numpy.sin(x1) + 7*numpy.sin(x2)**2 + 0.1 * x3**4 * numpy.sin(x1)"
   ]
  },
  {
   "cell_type": "markdown",
   "metadata": {
    "ein.tags": "worksheet-0",
    "slideshow": {
     "slide_type": "-"
    }
   },
   "source": [
    "We want to resolve the integral over $[-\\pi, \\pi]^3$. We start by resolving the problem analytically, using SymPy. "
   ]
  },
  {
   "cell_type": "code",
   "execution_count": 11,
   "metadata": {
    "autoscroll": false,
    "ein.hycell": false,
    "ein.tags": "worksheet-0",
    "slideshow": {
     "slide_type": "-"
    }
   },
   "outputs": [],
   "source": [
    "x1 = sympy.Symbol('x1')\n",
    "x2 = sympy.Symbol('x2')\n",
    "x3 = sympy.Symbol('x3')\n",
    "expr = sympy.sin(x1) + 7*sympy.sin(x2)**2 + 0.1 * x3**4 * sympy.sin(x1)\n",
    "res = sympy.integrate(expr,\n",
    "                      (x1, -sympy.pi, sympy.pi),\n",
    "                      (x2, -sympy.pi, sympy.pi),\n",
    "                      (x3, -sympy.pi, sympy.pi))\n",
    "result['analytical'] = float(res)"
   ]
  },
  {
   "cell_type": "markdown",
   "metadata": {
    "ein.tags": "worksheet-0",
    "slideshow": {
     "slide_type": "-"
    }
   },
   "source": [
    "Result from a standard Monte Carlo sampling method:"
   ]
  },
  {
   "cell_type": "code",
   "execution_count": 12,
   "metadata": {
    "autoscroll": false,
    "ein.hycell": false,
    "ein.tags": "worksheet-0",
    "slideshow": {
     "slide_type": "-"
    }
   },
   "outputs": [],
   "source": [
    "N = 10000\n",
    "accum = 0\n",
    "for i in range(N):\n",
    "    xx1 = numpy.random.uniform(-numpy.pi, numpy.pi)\n",
    "    xx2 = numpy.random.uniform(-numpy.pi, numpy.pi)\n",
    "    xx3 = numpy.random.uniform(-numpy.pi, numpy.pi)\n",
    "    accum += numpy.sin(xx1) + 7*numpy.sin(xx2)**2 + 0.1 * xx3**4 * numpy.sin(xx1)\n",
    "volume = (2 * numpy.pi)**3\n",
    "result['MC'] = volume * accum / float(N)"
   ]
  },
  {
   "cell_type": "markdown",
   "metadata": {
    "ein.tags": "worksheet-0",
    "slideshow": {
     "slide_type": "-"
    }
   },
   "source": [
    "Using latin hypercube sampling:"
   ]
  },
  {
   "cell_type": "code",
   "execution_count": 13,
   "metadata": {
    "autoscroll": false,
    "ein.hycell": false,
    "ein.tags": "worksheet-0",
    "slideshow": {
     "slide_type": "-"
    }
   },
   "outputs": [],
   "source": [
    "seq = lhs(3, N)\n",
    "accum = 0\n",
    "for i in range(N):\n",
    "    xx1 = -numpy.pi + seq[i][0] * numpy.pi * 2\n",
    "    xx2 = -numpy.pi + seq[i][1] * numpy.pi * 2\n",
    "    xx3 = -numpy.pi + seq[i][2] * numpy.pi * 2\n",
    "    accum += numpy.sin(xx1) + 7*numpy.sin(xx2)**2 + 0.1 * xx3**4 * numpy.sin(xx1)\n",
    "volume = (2 * numpy.pi)**3\n",
    "result['LHS'] = volume * accum / float(N)"
   ]
  },
  {
   "cell_type": "markdown",
   "metadata": {
    "ein.tags": "worksheet-0",
    "slideshow": {
     "slide_type": "-"
    }
   },
   "source": [
    "A low-discrepency Halton sequence, for a quasi-Monte Carlo approach:"
   ]
  },
  {
   "cell_type": "code",
   "execution_count": 14,
   "metadata": {
    "autoscroll": false,
    "ein.hycell": false,
    "ein.tags": "worksheet-0",
    "slideshow": {
     "slide_type": "-"
    }
   },
   "outputs": [],
   "source": [
    "seq = halton(3, N)\n",
    "accum = 0\n",
    "for i in range(N):\n",
    "    xx1 = -numpy.pi + seq[i][0] * numpy.pi * 2\n",
    "    xx2 = -numpy.pi + seq[i][1] * numpy.pi * 2\n",
    "    xx3 = -numpy.pi + seq[i][2] * numpy.pi * 2\n",
    "    accum += numpy.sin(xx1) + 7*numpy.sin(xx2)**2 + 0.1 * xx3**4 * numpy.sin(xx1)\n",
    "volume = (2 * numpy.pi)**3\n",
    "result['QMC'] = volume * accum / float(N)"
   ]
  },
  {
   "cell_type": "markdown",
   "metadata": {
    "ein.tags": "worksheet-0",
    "slideshow": {
     "slide_type": "-"
    }
   },
   "source": [
    "Comparing the results of the three estimation methods: "
   ]
  },
  {
   "cell_type": "code",
   "execution_count": 15,
   "metadata": {
    "autoscroll": false,
    "ein.hycell": false,
    "ein.tags": "worksheet-0",
    "slideshow": {
     "slide_type": "-"
    }
   },
   "outputs": [
    {
     "name": "stdout",
     "output_type": "stream",
     "text": [
      "MC  result: 874.12993 Error: 5.954187E+00\n",
      "LHS result: 879.01467 Error: 1.083893E+01\n",
      "QMC result: 868.23893 Error: 6.318098E-02\n"
     ]
    }
   ],
   "source": [
    "for m in ['MC', 'LHS', 'QMC']:\n",
    "    print(\"{:3} result: {:.8} Error: {:E}\".format(m, result[m], abs(result[m]-result['analytical'])))"
   ]
  },
  {
   "cell_type": "code",
   "execution_count": null,
   "metadata": {
    "autoscroll": false,
    "ein.hycell": false,
    "ein.tags": "worksheet-0",
    "slideshow": {
     "slide_type": "-"
    }
   },
   "outputs": [],
   "source": []
  }
 ],
 "metadata": {
  "anaconda-cloud": null,
  "kernelspec": {
   "display_name": "Python 3",
   "language": "python",
   "name": "python3"
  },
  "language_info": {
   "codemirror_mode": {
    "name": "ipython",
    "version": 3
   },
   "file_extension": ".py",
   "mimetype": "text/x-python",
   "name": "python",
   "nbconvert_exporter": "python",
   "pygments_lexer": "ipython3",
   "version": "3.6.7"
  },
  "name": "monte-carlo-LHS.ipynb"
 },
 "nbformat": 4,
 "nbformat_minor": 1
}
