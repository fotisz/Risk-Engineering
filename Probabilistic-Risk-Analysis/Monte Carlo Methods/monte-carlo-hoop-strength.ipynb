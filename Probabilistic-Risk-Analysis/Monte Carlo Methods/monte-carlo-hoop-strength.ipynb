{
 "cells": [
  {
   "cell_type": "markdown",
   "metadata": {},
   "source": [
    "# Monte Carlo simulation of failure probability in mechanical design"
   ]
  },
  {
   "cell_type": "markdown",
   "metadata": {},
   "source": [
    "<img src=\"https://risk-engineering.org/static/img/logo-RE.png\" width=\"100\" alt=\"\" style=\"float:right;margin:15px;\">\n",
    "This notebook is an element of the free [risk-engineering.org courseware](https://risk-engineering.org/). It can be distributed under the terms of the [Creative Commons Attribution-ShareAlike licence](https://creativecommons.org/licenses/by-sa/4.0/).\n",
    "\n",
    "Author: Eric Marsden <eric.marsden@risk-engineering.org>\n",
    "\n",
    "---\n",
    "\n",
    "This notebook contains an introduction to use of Python and the NumPy library for Monte Carlo simulation applied to a simple mechanical strength estimation, used for estimating failure probability. The [associated lecture slides](https://risk-engineering.org/monte-carlo-methods/) provide an introduction to the use of stochastic simulation methods."
   ]
  },
  {
   "cell_type": "code",
   "execution_count": 1,
   "metadata": {},
   "outputs": [],
   "source": [
    "import numpy\n",
    "import scipy.stats\n",
    "import pandas\n",
    "import seaborn as sns\n",
    "import matplotlib.pyplot as plt"
   ]
  },
  {
   "cell_type": "markdown",
   "metadata": {},
   "source": [
    "## Problem statement"
   ]
  },
  {
   "cell_type": "markdown",
   "metadata": {},
   "source": [
    "The hoop strength, or circumferential stress, to which a cylindrical vessel is exposed is given by the following equation:\n",
    "\n",
    "$$\\phi_H = \\frac{P \\cdot r}{W}$$\n",
    "\n",
    "where $P$ is the internal pressure in the vessel (a gauge pressure, expressed in MPa), $r$ is the inside radius of the pipe, expressed in mm and $W$ is wall thickness, expressed in mm. $\\phi_H$ is expressed in MPa (million Pascals). \n",
    "\n",
    "(This equation is only valid for “thin-walled” vessels, where $r$ is much larger than $t$.)\n",
    "\n",
    "Pressure vessels and piping in petrochemical plants, and airplanes whose cabins are pressurized, can be thought of as thin-walled cylindrical vessels which must resist a certain level of internal pressure. Mechanical engineers will calculate the wall thickness required to resist a given internal pressure, then will take a safety factor into account.\n",
    "\n",
    "This type of analysis is a part of [stress-strain analysis](https://en.wikipedia.org/wiki/Stress%E2%80%93strain_analysis) in mechanical or civil engineering. This is used during system design to check that a structure is safe (that the strain on every component remains lower than the stress to which it will be exposed, plus a certain safety margin) and to optimize the use of materials (reduce the amount of materials used while remaining within the safety margin). "
   ]
  },
  {
   "cell_type": "markdown",
   "metadata": {},
   "source": [
    "We will make the following assumptions concerning the distribution of our input variables:\n",
    "\n",
    "- pipe radius $r$ follows a normal distribution with a mean of 60 mm and CV of 0.05 (5%)\n",
    "\n",
    "- wall thickness $W$ follows a normal distribution with a mean of 4 mm and CV of 0.05\n",
    "\n",
    "- the yield strength is also a random variable, following a normal distribution with a mean of 200 MPa and CV of 0.1 (yield strength is a property of a material; it’s the level of stress at which the material start to deform plastically, or fail from a mechanical point of view)\n",
    "\n",
    "- internal pressure in the vessel is assumed to be constant at 10 MPa\n",
    "\n",
    "We want to use a Monte Carlo simulation to estimate the probability of failure, which arises when the stress exceeds the yield strength of the vessel."
   ]
  },
  {
   "cell_type": "markdown",
   "metadata": {},
   "source": [
    "Start by defining functions that generate simulated values for the stress and for the yield strength of the vessel."
   ]
  },
  {
   "cell_type": "code",
   "execution_count": 2,
   "metadata": {},
   "outputs": [],
   "source": [
    "def calculate_stress():\n",
    "    P = 10\n",
    "    # note that the stdev is the mean times the coefficient of variation CV\n",
    "    radius = scipy.stats.norm(60, 60*0.05).rvs()\n",
    "    W = scipy.stats.norm(4, 4*0.05).rvs()\n",
    "    return P * radius / W\n",
    "\n",
    "def calculate_yield_strength():\n",
    "    return scipy.stats.norm(200, 200*0.1).rvs()"
   ]
  },
  {
   "cell_type": "markdown",
   "metadata": {},
   "source": [
    "Let’s run a Monte Carlo simulation to see how many times the stress exceeds the yield strength of the vessel, given our assumptions."
   ]
  },
  {
   "cell_type": "code",
   "execution_count": 3,
   "metadata": {},
   "outputs": [],
   "source": [
    "N = 1000\n",
    "failures = 0\n",
    "stresses = numpy.empty(N)\n",
    "yield_strengths = numpy.empty(N)\n",
    "for i in range(N):\n",
    "    stresses[i] = calculate_stress()\n",
    "    yield_strengths[i] = calculate_yield_strength()\n",
    "    if stresses[i] > yield_strengths[i]:\n",
    "        failures += 1"
   ]
  },
  {
   "cell_type": "markdown",
   "metadata": {},
   "source": [
    "We can examine the probability distributions of the stress and the yield strength."
   ]
  },
  {
   "cell_type": "code",
   "execution_count": 4,
   "metadata": {},
   "outputs": [
    {
     "data": {
      "image/png": "[encoded data removed]",
      "text/plain": [
       "<Figure size 432x288 with 1 Axes>"
      ]
     },
     "metadata": {
      "needs_background": "dark"
     },
     "output_type": "display_data"
    }
   ],
   "source": [
    "plt.hist(stresses, alpha=0.5, label=\"Stress\")\n",
    "plt.hist(yield_strengths, alpha=0.5, label=\"Strength\")\n",
    "plt.legend(loc='upper right');"
   ]
  },
  {
   "cell_type": "markdown",
   "metadata": {},
   "source": [
    "Note that the points where failure occurs are the intersection between the two histograms. We can estimate the probability of this failure thanks to the simulation we ran above."
   ]
  },
  {
   "cell_type": "code",
   "execution_count": 5,
   "metadata": {},
   "outputs": [
    {
     "data": {
      "text/plain": [
       "0.018"
      ]
     },
     "execution_count": 5,
     "metadata": {},
     "output_type": "execute_result"
    }
   ],
   "source": [
    "# the probability of failure\n",
    "failures / float(N)"
   ]
  },
  {
   "cell_type": "markdown",
   "metadata": {},
   "source": [
    "## Aside on vectorization"
   ]
  },
  {
   "cell_type": "markdown",
   "metadata": {},
   "source": [
    "Our code above uses for loops to run the simulation, which, in most programming languages, is the standard way of executing the same calculation a large number of times. However, the NumPy library offers the possibility of executing vector or matrix arithmetic, in which the same operation is executed on all matrix elements “simultaneously”. This allows you to write less verbose code which often executes more quickly on modern computers. For example:"
   ]
  },
  {
   "cell_type": "code",
   "execution_count": 6,
   "metadata": {},
   "outputs": [
    {
     "data": {
      "text/plain": [
       "array([2., 2., 2., 2., 2., 2., 2., 2., 2., 2.])"
      ]
     },
     "execution_count": 6,
     "metadata": {},
     "output_type": "execute_result"
    }
   ],
   "source": [
    "N = 10\n",
    "ones = numpy.ones(N)\n",
    "numpy.sqrt(ones + 3 * ones)"
   ]
  },
  {
   "cell_type": "markdown",
   "metadata": {},
   "source": [
    "On our hoop strength example, we could have written more compactly:"
   ]
  },
  {
   "cell_type": "code",
   "execution_count": 7,
   "metadata": {},
   "outputs": [
    {
     "data": {
      "text/plain": [
       "0.0148"
      ]
     },
     "execution_count": 7,
     "metadata": {},
     "output_type": "execute_result"
    }
   ],
   "source": [
    "N = 10000\n",
    "P = 10\n",
    "radius = scipy.stats.norm(60, 60*0.05).rvs(N)\n",
    "W = scipy.stats.norm(4, 4*0.05).rvs(N)\n",
    "yield_strength = scipy.stats.norm(200, 200*0.1).rvs(N)\n",
    "# sum() adds the items in the vector which are not False\n",
    "((P * radius / W) > yield_strength).sum() / float(N)"
   ]
  }
 ],
 "metadata": {
  "anaconda-cloud": {},
  "kernelspec": {
   "display_name": "Python 3",
   "language": "python",
   "name": "python3"
  },
  "language_info": {
   "codemirror_mode": {
    "name": "ipython",
    "version": 3
   },
   "file_extension": ".py",
   "mimetype": "text/x-python",
   "name": "python",
   "nbconvert_exporter": "python",
   "pygments_lexer": "ipython3",
   "version": "3.6.7"
  }
 },
 "nbformat": 4,
 "nbformat_minor": 1
}
